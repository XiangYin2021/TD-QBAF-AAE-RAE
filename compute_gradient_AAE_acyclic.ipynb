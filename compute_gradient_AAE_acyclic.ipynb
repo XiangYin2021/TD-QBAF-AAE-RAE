{
 "cells": [
  {
   "cell_type": "code",
   "execution_count": 124,
   "outputs": [],
   "source": [
    "import sys\n",
    "sys.path.append(\"../../src/\")\n",
    "import uncertainpy.gradual as grad"
   ],
   "metadata": {
    "collapsed": false
   }
  },
  {
   "cell_type": "code",
   "execution_count": 125,
   "outputs": [],
   "source": [
    "def compute_gradient(model, arg1, arg2, h, agg_f, inf_f):\n",
    "    original_strength = arg2.get_strength()\n",
    "    initial_weight = arg1.get_initial_weight()\n",
    "    arg1.reset_initial_weight(initial_weight+h) # change it to the counterfctual value\n",
    "    grad.algorithms.computeStrengthValues(model, agg_f, inf_f)\n",
    "    counterfactual_strength = arg2.get_strength()\n",
    "    gradient = (counterfactual_strength-original_strength)/h\n",
    "    arg1.reset_initial_weight(initial_weight) # change it back to the original value\n",
    "    grad.algorithms.computeStrengthValues(model, agg_f, inf_f)\n",
    "    return gradient"
   ],
   "metadata": {
    "collapsed": false
   }
  },
  {
   "cell_type": "code",
   "execution_count": 126,
   "metadata": {
    "scrolled": true
   },
   "outputs": [
    {
     "name": "stdout",
     "output_type": "stream",
     "text": [
      "('A', 0.6875)\n",
      "('B', 0.25)\n",
      "('C', 0.5)\n",
      "('D', 0.25)\n",
      "('E', 0.5)\n",
      "('F', 0.5)\n",
      "('G', 0.5)\n",
      "('H', 0.5)\n"
     ]
    }
   ],
   "source": [
    "# Computation via Forward Propagation\n",
    "bag = grad.BAG(\"../../bags/fake_news_neema.bag\")\n",
    "\n",
    "# # QE\n",
    "# agg_f = grad.semantics.modular.SumAggregation()\n",
    "# inf_f = grad.semantics.modular.QuadraticMaximumInfluence(conservativeness=1)\n",
    "\n",
    "# DF-QuAD\n",
    "agg_f = grad.semantics.modular.ProductAggregation()\n",
    "inf_f = grad.semantics.modular.LinearInfluence(conservativeness=1)\n",
    "\n",
    "# # SD-DF-QUAD\n",
    "# agg_f = grad.semantics.modular.ProductAggregation()\n",
    "# inf_f = grad.semantics.modular.SQDFQUADInfluence(conservativeness=1)\n",
    "\n",
    "# # EB\n",
    "# agg_f = grad.semantics.modular.SumAggregation()\n",
    "# inf_f = grad.semantics.modular.EulerBasedInfluence()\n",
    "\n",
    "# # EBT\n",
    "# agg_f = grad.semantics.modular.TopAggregation()\n",
    "# inf_f = grad.semantics.modular.EulerBasedInfluence()\n",
    "\n",
    "#returns dictionary of strength values if needed\n",
    "strength_values = grad.algorithms.computeStrengthValues(bag, agg_f, inf_f)\n",
    "\n",
    "for arg in bag.arguments.values():\n",
    "    print((arg.name,arg.strength))"
   ]
  },
  {
   "cell_type": "code",
   "execution_count": 127,
   "outputs": [
    {
     "name": "stdout",
     "output_type": "stream",
     "text": [
      "gradient for argument A is 0.6250000073038109\n",
      "gradient for argument B is 0.12499999924031613\n",
      "gradient for argument C is 0.37500000882317863\n",
      "gradient for argument D is -0.24999999848063226\n",
      "gradient for argument E is -0.12499999924031613\n",
      "gradient for argument F is 0.24999999848063226\n",
      "gradient for argument G is 0.0\n",
      "gradient for argument H is 0.0\n"
     ]
    }
   ],
   "source": [
    "# arg1 = bag.arguments[\"\"]\n",
    "arg2 = bag.arguments[\"A\"]\n",
    "topic_arg = bag.arguments[\"A\"]\n",
    "h = 0.00000001\n",
    "for arg1 in bag.arguments.values():\n",
    "    gradient = compute_gradient(bag, arg1, arg2, h, agg_f, inf_f)\n",
    "    print(f\"gradient for argument {arg1.name} is {gradient}\")"
   ],
   "metadata": {
    "collapsed": false,
    "pycharm": {
     "name": "#%%\n"
    }
   }
  }
 ],
 "metadata": {
  "kernelspec": {
   "display_name": "Python 3 (ipykernel)",
   "language": "python",
   "name": "python3"
  },
  "language_info": {
   "codemirror_mode": {
    "name": "ipython",
    "version": 3
   },
   "file_extension": ".py",
   "mimetype": "text/x-python",
   "name": "python",
   "nbconvert_exporter": "python",
   "pygments_lexer": "ipython3",
   "version": "3.9.13"
  },
  "vscode": {
   "interpreter": {
    "hash": "369f2c481f4da34e4445cda3fffd2e751bd1c4d706f27375911949ba6bb62e1c"
   }
  }
 },
 "nbformat": 4,
 "nbformat_minor": 2
}