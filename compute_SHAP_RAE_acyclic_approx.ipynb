{
 "cells": [
  {
   "cell_type": "code",
   "execution_count": 1,
   "metadata": {},
   "outputs": [],
   "source": [
    "import sys\n",
    "sys.path.append(\"../../src/\")\n",
    "import uncertainpy.gradual as grad\n",
    "import random\n",
    "random.seed(0)"
   ]
  },
  {
   "cell_type": "code",
   "execution_count": 2,
   "metadata": {},
   "outputs": [],
   "source": [
    "from itertools import combinations\n",
    "\n",
    "# generate random combination with number n\n",
    "def combine(temp_list, n):\n",
    "    return list(combinations(temp_list, n))"
   ]
  },
  {
   "cell_type": "code",
   "execution_count": 3,
   "outputs": [],
   "source": [
    "# generate random sublist from current list\n",
    "def generate_new_list(original_list):\n",
    "    new_list = []\n",
    "    for element in original_list:\n",
    "        if random.choice([True, False]):\n",
    "            new_list.append(element)\n",
    "    return new_list"
   ],
   "metadata": {
    "collapsed": false
   }
  },
  {
   "cell_type": "code",
   "execution_count": 4,
   "metadata": {},
   "outputs": [],
   "source": [
    "# set semantics and compute strength of arguments\n",
    "bag = grad.BAG(\"../../bags/fig6.bag\")\n",
    "\n",
    "# DF-QuAD semantics\n",
    "agg_f = grad.semantics.modular.ProductAggregation()\n",
    "inf_f = grad.semantics.modular.LinearInfluence(conservativeness=1)\n",
    "\n",
    "# QE semantics\n",
    "# agg_f = grad.semantics.modular.SumAggregation()\n",
    "# inf_f = grad.semantics.modular.QuadraticMaximumInfluence(conservativeness=1)\n",
    "\n",
    "strength_values = grad.algorithms.computeStrengthValues(bag, agg_f, inf_f)"
   ]
  },
  {
   "cell_type": "code",
   "execution_count": 5,
   "metadata": {},
   "outputs": [],
   "source": [
    "# get all the attacks and supports in QBAF\n",
    "att_relation = bag.get_attacks()\n",
    "sup_relation = bag.get_supports()\n",
    "all_relation = att_relation + sup_relation"
   ]
  },
  {
   "cell_type": "code",
   "execution_count": 6,
   "metadata": {},
   "outputs": [],
   "source": [
    "# rename relation concisely\n",
    "all_relation_new = []\n",
    "for i in all_relation:\n",
    "    if str(i)[0:3]==\"Att\":\n",
    "        all_relation_new.append((\"att\",str(i.get_attacker().get_name()),str(i.get_attacked().get_name())))\n",
    "    elif str(i)[0:3]==\"Sup\":\n",
    "        all_relation_new.append((\"sup\",str(i.get_supporter().get_name()),str(i.get_supported().get_name())))"
   ]
  },
  {
   "cell_type": "code",
   "execution_count": 7,
   "metadata": {},
   "outputs": [],
   "source": [
    "topic_a = \"5\"\n",
    "topic_arg = bag.arguments[topic_a]"
   ]
  },
  {
   "cell_type": "code",
   "execution_count": 8,
   "metadata": {},
   "outputs": [
    {
     "name": "stdout",
     "output_type": "stream",
     "text": [
      "('1', 0.5, 0.2543945275247097)\n",
      "('2', 0.5, 0.5009765550494194)\n",
      "('3', 0.5, 0.9921875)\n",
      "('4', 0.5, 0.9999999850988388)\n",
      "('5', 0.5, 0.998046875)\n",
      "('6', 0.5, 0.5)\n",
      "('7', 0.5, 0.5)\n",
      "('8', 0.5, 0.5)\n",
      "('9', 0.5, 0.5)\n",
      "('10', 0.5, 0.5)\n",
      "('11', 0.5, 0.5)\n",
      "('12', 0.5, 0.99951171875)\n",
      "('13', 0.5, 0.99609375)\n",
      "('14', 0.5, 0.984375)\n",
      "('15', 0.5, 0.75)\n",
      "('16', 0.5, 0.984375)\n",
      "('17', 0.5, 0.96875)\n",
      "('18', 0.5, 0.96875)\n",
      "('19', 0.5, 0.875)\n",
      "('20', 0.5, 0.9375)\n",
      "('21', 0.5, 0.96875)\n",
      "('22', 0.5, 0.5)\n",
      "('23', 0.5, 0.75)\n",
      "('24', 0.5, 0.875)\n",
      "('25', 0.5, 0.9375)\n",
      "('26', 0.5, 0.9375)\n",
      "('27', 0.5, 0.5)\n",
      "('28', 0.5, 0.5)\n",
      "('29', 0.5, 0.5)\n",
      "('30', 0.5, 0.5)\n",
      "('31', 0.5, 0.5)\n",
      "('32', 0.5, 0.5)\n",
      "('33', 0.5, 0.875)\n",
      "('34', 0.5, 0.5)\n",
      "('35', 0.5, 0.5)\n",
      "('36', 0.5, 0.5)\n",
      "('37', 0.5, 0.5)\n",
      "('38', 0.5, 0.5)\n",
      "('39', 0.5, 0.5)\n",
      "('40', 0.5, 0.5)\n",
      "('41', 0.5, 0.5)\n",
      "('42', 0.5, 0.5)\n",
      "('43', 0.5, 0.5)\n",
      "('44', 0.5, 0.5)\n",
      "('45', 0.5, 0.5)\n",
      "('46', 0.5, 0.5)\n",
      "('47', 0.5, 0.5)\n",
      "('48', 0.5, 0.5)\n"
     ]
    }
   ],
   "source": [
    "# compute strength for all arguments\n",
    "for arg in bag.arguments.values():\n",
    "    print((arg.name,arg.initial_weight,arg.strength))"
   ]
  },
  {
   "cell_type": "code",
   "execution_count": 9,
   "metadata": {
    "scrolled": false
   },
   "outputs": [
    {
     "name": "stdout",
     "output_type": "stream",
     "text": [
      "edge i:0\n",
      "edge i:1\n",
      "edge i:2\n",
      "edge i:3\n",
      "edge i:4\n",
      "edge i:5\n",
      "edge i:6\n",
      "edge i:7\n",
      "edge i:8\n",
      "edge i:9\n"
     ]
    },
    {
     "ename": "KeyboardInterrupt",
     "evalue": "",
     "output_type": "error",
     "traceback": [
      "\u001B[1;31m---------------------------------------------------------------------------\u001B[0m",
      "\u001B[1;31mKeyboardInterrupt\u001B[0m                         Traceback (most recent call last)",
      "\u001B[1;32m~\\AppData\\Local\\Temp\\ipykernel_26344\\70264345.py\u001B[0m in \u001B[0;36m<module>\u001B[1;34m\u001B[0m\n\u001B[0;32m     54\u001B[0m \u001B[1;33m\u001B[0m\u001B[0m\n\u001B[0;32m     55\u001B[0m         \u001B[1;31m# recover BAG for the next iteration\u001B[0m\u001B[1;33m\u001B[0m\u001B[1;33m\u001B[0m\u001B[0m\n\u001B[1;32m---> 56\u001B[1;33m         \u001B[0mbag\u001B[0m \u001B[1;33m=\u001B[0m \u001B[0mgrad\u001B[0m\u001B[1;33m.\u001B[0m\u001B[0mBAG\u001B[0m\u001B[1;33m(\u001B[0m\u001B[1;34m\"../../bags/fig6.bag\"\u001B[0m\u001B[1;33m)\u001B[0m\u001B[1;33m\u001B[0m\u001B[1;33m\u001B[0m\u001B[0m\n\u001B[0m\u001B[0;32m     57\u001B[0m         \u001B[0mstrength_values\u001B[0m \u001B[1;33m=\u001B[0m \u001B[0mgrad\u001B[0m\u001B[1;33m.\u001B[0m\u001B[0malgorithms\u001B[0m\u001B[1;33m.\u001B[0m\u001B[0mcomputeStrengthValues\u001B[0m\u001B[1;33m(\u001B[0m\u001B[0mbag\u001B[0m\u001B[1;33m,\u001B[0m \u001B[0magg_f\u001B[0m\u001B[1;33m,\u001B[0m \u001B[0minf_f\u001B[0m\u001B[1;33m)\u001B[0m\u001B[1;33m\u001B[0m\u001B[1;33m\u001B[0m\u001B[0m\n\u001B[0;32m     58\u001B[0m \u001B[1;33m\u001B[0m\u001B[0m\n",
      "\u001B[1;32m~\\OneDrive - Imperial College London\\PycharmProjects\\Uncertainpy-master (1)\\Uncertainpy-master\\examples\\gradual\\../../src\\uncertainpy\\gradual\\BAG.py\u001B[0m in \u001B[0;36m__init__\u001B[1;34m(self, path)\u001B[0m\n\u001B[0;32m     40\u001B[0m                             \u001B[0msupporter\u001B[0m \u001B[1;33m=\u001B[0m \u001B[0mself\u001B[0m\u001B[1;33m.\u001B[0m\u001B[0marguments\u001B[0m\u001B[1;33m[\u001B[0m\u001B[0mk_args\u001B[0m\u001B[1;33m[\u001B[0m\u001B[1;36m0\u001B[0m\u001B[1;33m]\u001B[0m\u001B[1;33m]\u001B[0m\u001B[1;33m\u001B[0m\u001B[1;33m\u001B[0m\u001B[0m\n\u001B[0;32m     41\u001B[0m                             \u001B[0msupported\u001B[0m \u001B[1;33m=\u001B[0m \u001B[0mself\u001B[0m\u001B[1;33m.\u001B[0m\u001B[0marguments\u001B[0m\u001B[1;33m[\u001B[0m\u001B[0mk_args\u001B[0m\u001B[1;33m[\u001B[0m\u001B[1;36m1\u001B[0m\u001B[1;33m]\u001B[0m\u001B[1;33m]\u001B[0m\u001B[1;33m\u001B[0m\u001B[1;33m\u001B[0m\u001B[0m\n\u001B[1;32m---> 42\u001B[1;33m                             \u001B[0mself\u001B[0m\u001B[1;33m.\u001B[0m\u001B[0madd_support\u001B[0m\u001B[1;33m(\u001B[0m\u001B[0msupporter\u001B[0m\u001B[1;33m,\u001B[0m \u001B[0msupported\u001B[0m\u001B[1;33m)\u001B[0m\u001B[1;33m\u001B[0m\u001B[1;33m\u001B[0m\u001B[0m\n\u001B[0m\u001B[0;32m     43\u001B[0m         \u001B[1;31m# self.origin_attacks = self.attacks.copy()\u001B[0m\u001B[1;33m\u001B[0m\u001B[1;33m\u001B[0m\u001B[0m\n\u001B[0;32m     44\u001B[0m         \u001B[1;31m# self.origin_supports = self.supports.copy()\u001B[0m\u001B[1;33m\u001B[0m\u001B[1;33m\u001B[0m\u001B[0m\n",
      "\u001B[1;31mKeyboardInterrupt\u001B[0m: "
     ]
    }
   ],
   "source": [
    "# approximate attributions\n",
    "n = len(all_relation_new) # the number of all relations in the AF\n",
    "attribution = {} # store the attribution of all the relations\n",
    "sample_count_N = 1000 # iterate 1000 times\n",
    "\n",
    "for i in range(len(all_relation_new)):\n",
    "    print(f\"edge i:{i}\")\n",
    "\n",
    "    # split current and the other relation\n",
    "    cur_relation = all_relation_new[i]\n",
    "    rest_relation = all_relation_new.copy()\n",
    "    rest_relation.remove(cur_relation)\n",
    "\n",
    "    difference = []\n",
    "    coefficient = []\n",
    "\n",
    "    sample_count = sample_count_N\n",
    "\n",
    "    for index in range(1, sample_count+1): # iterations\n",
    "        new_list = generate_new_list(rest_relation) # choose random elements in rest_relation\n",
    "        if new_list == []:\n",
    "            new_tuple = ()\n",
    "        else:\n",
    "            new_tuple = tuple(new_list)\n",
    "        j = new_tuple\n",
    "        for k in j:\n",
    "            # remove att\n",
    "            if k[0] == \"att\":\n",
    "                temp_attacker = bag.remove_attack(k[1],k[2]) # k[1] attacks k[2]\n",
    "            # remove sup\n",
    "            elif k[0] == \"sup\":\n",
    "                temp_supporter = bag.remove_support(k[1],k[2]) # k[1] supports k[2]\n",
    "\n",
    "\n",
    "\n",
    "        # compute sigma(S U {i})\n",
    "        strength_values = grad.algorithms.computeStrengthValues(bag, agg_f, inf_f)\n",
    "        topic_arg = bag.arguments[topic_a]\n",
    "        strength_before_drop_cur = topic_arg.strength\n",
    "\n",
    "        # remove cur_relation\n",
    "        if cur_relation[0]==\"att\":\n",
    "            temp_attacker = bag.remove_attack(cur_relation[1],cur_relation[2])\n",
    "        elif cur_relation[0]==\"sup\":\n",
    "            temp_supporter = bag.remove_support(cur_relation[1],cur_relation[2])\n",
    "\n",
    "        # compute sigma(S)\n",
    "        strength_values = grad.algorithms.computeStrengthValues(bag, agg_f, inf_f)\n",
    "        topic_arg = bag.arguments[topic_a]\n",
    "        strength_after_drop_cur = topic_arg.strength\n",
    "\n",
    "        # compute sigma(S U {i})-sigma(S)\n",
    "        difference.append(strength_before_drop_cur-strength_after_drop_cur)\n",
    "\n",
    "        # recover BAG for the next iteration\n",
    "        bag = grad.BAG(\"../../bags/fig6.bag\")\n",
    "        strength_values = grad.algorithms.computeStrengthValues(bag, agg_f, inf_f)\n",
    "\n",
    "    # compute the attribution\n",
    "    attribution[cur_relation] = sum(difference) / sample_count_N"
   ]
  },
  {
   "cell_type": "code",
   "execution_count": null,
   "outputs": [],
   "source": [
    "attribution"
   ],
   "metadata": {
    "collapsed": false
   }
  },
  {
   "cell_type": "markdown",
   "source": [],
   "metadata": {
    "collapsed": false
   }
  }
 ],
 "metadata": {
  "kernelspec": {
   "display_name": "Python 3 (ipykernel)",
   "language": "python",
   "name": "python3"
  },
  "language_info": {
   "codemirror_mode": {
    "name": "ipython",
    "version": 3
   },
   "file_extension": ".py",
   "mimetype": "text/x-python",
   "name": "python",
   "nbconvert_exporter": "python",
   "pygments_lexer": "ipython3",
   "version": "3.9.7"
  },
  "vscode": {
   "interpreter": {
    "hash": "369f2c481f4da34e4445cda3fffd2e751bd1c4d706f27375911949ba6bb62e1c"
   }
  }
 },
 "nbformat": 4,
 "nbformat_minor": 2
}
