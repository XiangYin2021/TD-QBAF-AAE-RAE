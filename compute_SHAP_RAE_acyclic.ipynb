{
 "cells": [
  {
   "cell_type": "code",
   "execution_count": 9,
   "metadata": {},
   "outputs": [],
   "source": [
    "import sys\n",
    "sys.path.append(\"../../src/\")\n",
    "import numpy as np\n",
    "import math\n",
    "import uncertainpy.gradual as grad"
   ]
  },
  {
   "cell_type": "code",
   "execution_count": 10,
   "outputs": [],
   "source": [
    "from itertools import combinations\n",
    "\n",
    "# generate random combination with number n\n",
    "def combine(temp_list, n):\n",
    "    return list(combinations(temp_list, n))"
   ],
   "metadata": {
    "collapsed": false
   }
  },
  {
   "cell_type": "code",
   "execution_count": 11,
   "metadata": {},
   "outputs": [],
   "source": [
    "# set semantics and compute strength of arguments\n",
    "bag = grad.BAG(\"../../bags/fig3.bag\")\n",
    "\n",
    "# DF-QuAD semantics\n",
    "agg_f = grad.semantics.modular.ProductAggregation()\n",
    "inf_f = grad.semantics.modular.LinearInfluence(conservativeness=1)\n",
    "\n",
    "# QE semantics\n",
    "# agg_f = grad.semantics.modular.SumAggregation()\n",
    "# inf_f = grad.semantics.modular.QuadraticMaximumInfluence(conservativeness=1)\n",
    "\n",
    "strength_values = grad.algorithms.computeStrengthValues(bag, agg_f, inf_f)"
   ]
  },
  {
   "cell_type": "code",
   "execution_count": 12,
   "metadata": {},
   "outputs": [],
   "source": [
    "# get all the attacks and supports in QBAF\n",
    "att_relation = bag.get_attacks()\n",
    "sup_relation = bag.get_supports()\n",
    "all_relation = att_relation + sup_relation"
   ]
  },
  {
   "cell_type": "code",
   "execution_count": 13,
   "metadata": {},
   "outputs": [
    {
     "data": {
      "text/plain": "[('att', 'delta', 'beta'),\n ('att', 'delta', 'gamma'),\n ('att', 'zeta', 'delta'),\n ('sup', 'beta', 'alpha'),\n ('sup', 'gamma', 'alpha')]"
     },
     "execution_count": 13,
     "metadata": {},
     "output_type": "execute_result"
    }
   ],
   "source": [
    "# rename relation concisely\n",
    "all_relation_new = []\n",
    "for i in all_relation:\n",
    "    if str(i)[0:3]==\"Att\":\n",
    "        all_relation_new.append((\"att\",str(i.get_attacker().get_name()),str(i.get_attacked().get_name())))\n",
    "    elif str(i)[0:3]==\"Sup\":\n",
    "        all_relation_new.append((\"sup\",str(i.get_supporter().get_name()),str(i.get_supported().get_name())))\n",
    "all_relation_new"
   ]
  },
  {
   "cell_type": "code",
   "execution_count": 14,
   "metadata": {},
   "outputs": [],
   "source": [
    "# set topic argument\n",
    "topic_a = \"alpha\"\n",
    "topic_arg = bag.arguments[topic_a]"
   ]
  },
  {
   "cell_type": "code",
   "execution_count": 15,
   "metadata": {},
   "outputs": [
    {
     "name": "stdout",
     "output_type": "stream",
     "text": [
      "('alpha', 0.5, 0.8046875)\n",
      "('beta', 0.5, 0.375)\n",
      "('gamma', 0.5, 0.375)\n",
      "('delta', 0.5, 0.25)\n",
      "('zeta', 0.5, 0.5)\n"
     ]
    }
   ],
   "source": [
    "# compute strength for all arguments\n",
    "for arg in bag.arguments.values():\n",
    "    print((arg.name,arg.initial_weight,arg.strength))"
   ]
  },
  {
   "cell_type": "code",
   "execution_count": 16,
   "metadata": {
    "scrolled": false
   },
   "outputs": [
    {
     "name": "stdout",
     "output_type": "stream",
     "text": [
      "[(), (('att', 'delta', 'gamma'),), (('att', 'zeta', 'delta'),), (('sup', 'beta', 'alpha'),), (('sup', 'gamma', 'alpha'),), (('att', 'delta', 'gamma'), ('att', 'zeta', 'delta')), (('att', 'delta', 'gamma'), ('sup', 'beta', 'alpha')), (('att', 'delta', 'gamma'), ('sup', 'gamma', 'alpha')), (('att', 'zeta', 'delta'), ('sup', 'beta', 'alpha')), (('att', 'zeta', 'delta'), ('sup', 'gamma', 'alpha')), (('sup', 'beta', 'alpha'), ('sup', 'gamma', 'alpha')), (('att', 'delta', 'gamma'), ('att', 'zeta', 'delta'), ('sup', 'beta', 'alpha')), (('att', 'delta', 'gamma'), ('att', 'zeta', 'delta'), ('sup', 'gamma', 'alpha')), (('att', 'delta', 'gamma'), ('sup', 'beta', 'alpha'), ('sup', 'gamma', 'alpha')), (('att', 'zeta', 'delta'), ('sup', 'beta', 'alpha'), ('sup', 'gamma', 'alpha')), (('att', 'delta', 'gamma'), ('att', 'zeta', 'delta'), ('sup', 'beta', 'alpha'), ('sup', 'gamma', 'alpha'))]\n"
     ]
    },
    {
     "ename": "NameError",
     "evalue": "name 'ssss' is not defined",
     "output_type": "error",
     "traceback": [
      "\u001B[1;31m---------------------------------------------------------------------------\u001B[0m",
      "\u001B[1;31mNameError\u001B[0m                                 Traceback (most recent call last)",
      "\u001B[1;32m~\\AppData\\Local\\Temp/ipykernel_6568/338501634.py\u001B[0m in \u001B[0;36m<module>\u001B[1;34m\u001B[0m\n\u001B[0;32m     20\u001B[0m     \u001B[1;32mfor\u001B[0m \u001B[0mj\u001B[0m \u001B[1;32min\u001B[0m \u001B[0mcombine_rest_relation\u001B[0m\u001B[1;33m:\u001B[0m\u001B[1;33m\u001B[0m\u001B[1;33m\u001B[0m\u001B[0m\n\u001B[0;32m     21\u001B[0m         \u001B[0mprint\u001B[0m\u001B[1;33m(\u001B[0m\u001B[0mcombine_rest_relation\u001B[0m\u001B[1;33m)\u001B[0m\u001B[1;33m\u001B[0m\u001B[1;33m\u001B[0m\u001B[0m\n\u001B[1;32m---> 22\u001B[1;33m         \u001B[0mssss\u001B[0m\u001B[1;33m\u001B[0m\u001B[1;33m\u001B[0m\u001B[0m\n\u001B[0m\u001B[0;32m     23\u001B[0m         \u001B[1;32mfor\u001B[0m \u001B[0mk\u001B[0m \u001B[1;32min\u001B[0m \u001B[0mj\u001B[0m\u001B[1;33m:\u001B[0m\u001B[1;33m\u001B[0m\u001B[1;33m\u001B[0m\u001B[0m\n\u001B[0;32m     24\u001B[0m             \u001B[1;31m# remove att\u001B[0m\u001B[1;33m\u001B[0m\u001B[1;33m\u001B[0m\u001B[0m\n",
      "\u001B[1;31mNameError\u001B[0m: name 'ssss' is not defined"
     ]
    }
   ],
   "source": [
    "n = len(all_relation_new) # the number of all relations in the AF\n",
    "attribution = {} # store the attribution of all the relations\n",
    "\n",
    "for i in range(len(all_relation_new)):\n",
    "\n",
    "    # split current and the rest relation\n",
    "    cur_relation = all_relation_new[i]\n",
    "    rest_relation = all_relation_new.copy()\n",
    "    rest_relation.remove(cur_relation)\n",
    "\n",
    "    # compute combinations for the rest_relation\n",
    "    combine_rest_relation = []\n",
    "    for j in range(len(rest_relation)+1):\n",
    "        combine_rest_relation.extend(combine(rest_relation, j))\n",
    "\n",
    "    difference = []\n",
    "    coefficient = []\n",
    "\n",
    "    # remove relations in combine_rest_relation\n",
    "    for j in combine_rest_relation:\n",
    "        for k in j:\n",
    "            # remove att\n",
    "            if k[0]==\"att\":\n",
    "                temp_attacker = bag.remove_attack(k[1],k[2]) # k[1] attacks k[2]\n",
    "            # remove sup\n",
    "            elif k[0]==\"sup\":\n",
    "                temp_supporter = bag.remove_support(k[1],k[2]) # k[1] supports k[2]\n",
    "\n",
    "        # compute sigma(S U {i})\n",
    "        strength_values = grad.algorithms.computeStrengthValues(bag, agg_f, inf_f)\n",
    "        topic_arg = bag.arguments[topic_a]\n",
    "        strength_before_drop_cur = topic_arg.strength\n",
    "\n",
    "        # remove cur_relation\n",
    "        if cur_relation[0]==\"att\":\n",
    "            temp_attacker = bag.remove_attack(cur_relation[1],cur_relation[2])\n",
    "        elif cur_relation[0]==\"sup\":\n",
    "            temp_supporter = bag.remove_support(cur_relation[1],cur_relation[2])\n",
    "\n",
    "        # compute sigma(S)\n",
    "        strength_values = grad.algorithms.computeStrengthValues(bag, agg_f, inf_f)\n",
    "        topic_arg = bag.arguments[topic_a]\n",
    "        strength_after_drop_cur = topic_arg.strength\n",
    "\n",
    "        # compute sigma(S U {i})-sigma(S)\n",
    "        difference.append(strength_before_drop_cur-strength_after_drop_cur)\n",
    "\n",
    "        # compute the coefficient\n",
    "        S = len(j)\n",
    "        coefficient.append(math.factorial(n-1-S) * math.factorial(S) / math.factorial(n))\n",
    "\n",
    "        # recover QBAF for the next iteration\n",
    "        bag = grad.BAG(\"../../bags/fig3.bag\")\n",
    "        strength_values = grad.algorithms.computeStrengthValues(bag, agg_f, inf_f)\n",
    "\n",
    "    # compute attributions\n",
    "    attribution[cur_relation] = sum(np.multiply(coefficient, difference))"
   ]
  },
  {
   "cell_type": "code",
   "execution_count": null,
   "outputs": [],
   "source": [
    "attribution"
   ],
   "metadata": {
    "collapsed": false
   }
  }
 ],
 "metadata": {
  "kernelspec": {
   "display_name": "Python 3 (ipykernel)",
   "language": "python",
   "name": "python3"
  },
  "language_info": {
   "codemirror_mode": {
    "name": "ipython",
    "version": 3
   },
   "file_extension": ".py",
   "mimetype": "text/x-python",
   "name": "python",
   "nbconvert_exporter": "python",
   "pygments_lexer": "ipython3",
   "version": "3.9.7"
  },
  "vscode": {
   "interpreter": {
    "hash": "369f2c481f4da34e4445cda3fffd2e751bd1c4d706f27375911949ba6bb62e1c"
   }
  }
 },
 "nbformat": 4,
 "nbformat_minor": 2
}