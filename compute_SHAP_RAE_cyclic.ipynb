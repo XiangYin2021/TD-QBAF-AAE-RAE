{
 "cells": [
  {
   "cell_type": "code",
   "execution_count": 7,
   "metadata": {},
   "outputs": [],
   "source": [
    "import sys\n",
    "sys.path.append(\"../../src/\")\n",
    "import numpy as np\n",
    "import math\n",
    "import uncertainpy.gradual as grad"
   ]
  },
  {
   "cell_type": "code",
   "execution_count": 8,
   "outputs": [],
   "source": [
    "from itertools import combinations\n",
    "\n",
    "# generate random combination with number n\n",
    "def combine(temp_list, n):\n",
    "    return list(combinations(temp_list, n))"
   ],
   "metadata": {
    "collapsed": false
   }
  },
  {
   "cell_type": "code",
   "execution_count": 9,
   "outputs": [
    {
     "name": "stdout",
     "output_type": "stream",
     "text": [
      "QuadraticEnergyModel, RK4\n",
      "Time: 9.499999999999982\n",
      "Argument(name=s0, weight=0.5, strength=0.6983866081211344)\n",
      "Argument(name=s1, weight=0.5, strength=0.6984075601349732)\n",
      "Argument(name=s2, weight=0.5, strength=0.6983598317669508)\n",
      "Argument(name=s3, weight=0.5, strength=0.6983598317669508)\n",
      "Argument(name=s4, weight=0.5, strength=0.6983866081211344)\n",
      "Argument(name=s5, weight=0.5, strength=0.6983561366841534)\n",
      "Argument(name=s6, weight=0.5, strength=0.6983598317669508)\n",
      "Argument(name=s7, weight=0.5, strength=0.6983561366841534)\n",
      "Argument(name=s8, weight=0.5, strength=0.6983561366841534)\n",
      "Argument(name=s9, weight=0.5, strength=0.500000816300687)\n",
      "Argument(name=c0, weight=0.0, strength=0.8135102277027011)\n",
      "Argument(name=c1, weight=0.0, strength=7.65430959223384e-06)\n",
      "Argument(name=c2, weight=0.0, strength=0.8135536589680334)\n",
      "Argument(name=c3, weight=0.0, strength=6.901377616601401e-06)\n",
      "Argument(name=c4, weight=0.0, strength=0.8135150192670503)\n",
      "Argument(name=c5, weight=0.0, strength=6.909952043440828e-06)\n",
      "\n"
     ]
    },
    {
     "data": {
      "text/plain": "0.0009670739741814057"
     },
     "execution_count": 9,
     "metadata": {},
     "output_type": "execute_result"
    }
   ],
   "source": [
    "# set semantics and compute strength of arguments\n",
    "\n",
    "filename = \"../../bags/td_qbaf.bag\"\n",
    "model = grad.semantics.QuadraticEnergyModel()\n",
    "model.approximator = grad.algorithms.RK4(model)\n",
    "model.BAG = grad.BAG(filename)\n",
    "model.solve(delta=10e-2, epsilon=10e-4, verbose=True, generate_plot=False)"
   ],
   "metadata": {
    "collapsed": false,
    "pycharm": {
     "name": "#%%\n"
    }
   }
  },
  {
   "cell_type": "code",
   "execution_count": 10,
   "metadata": {},
   "outputs": [],
   "source": [
    "# get all the attacks and supports in QBAF\n",
    "att_relation = model.BAG.get_attacks()\n",
    "sup_relation = model.BAG.get_supports()\n",
    "all_relation = att_relation + sup_relation"
   ]
  },
  {
   "cell_type": "code",
   "execution_count": 11,
   "metadata": {},
   "outputs": [
    {
     "data": {
      "text/plain": "[('att', 'c0', 'c1'),\n ('att', 'c1', 'c0'),\n ('att', 'c2', 'c3'),\n ('att', 'c3', 'c2'),\n ('att', 'c4', 'c5'),\n ('att', 'c5', 'c4'),\n ('sup', 's0', 'c2'),\n ('sup', 's1', 'c1'),\n ('sup', 's1', 'c2'),\n ('sup', 's2', 'c4'),\n ('sup', 's3', 'c4'),\n ('sup', 's4', 'c2'),\n ('sup', 's5', 'c0'),\n ('sup', 's6', 'c4'),\n ('sup', 's7', 'c0'),\n ('sup', 's8', 'c0'),\n ('sup', 's9', 'c3'),\n ('sup', 's9', 'c5'),\n ('sup', 'c2', 's0'),\n ('sup', 'c1', 's1'),\n ('sup', 'c2', 's1'),\n ('sup', 'c4', 's2'),\n ('sup', 'c4', 's3'),\n ('sup', 'c2', 's4'),\n ('sup', 'c0', 's5'),\n ('sup', 'c4', 's6'),\n ('sup', 'c0', 's7'),\n ('sup', 'c0', 's8'),\n ('sup', 'c3', 's9'),\n ('sup', 'c5', 's9')]"
     },
     "execution_count": 11,
     "metadata": {},
     "output_type": "execute_result"
    }
   ],
   "source": [
    "# rename relation concisely\n",
    "all_relation_new = []\n",
    "for i in all_relation:\n",
    "    if str(i)[0:3]==\"Att\":\n",
    "        all_relation_new.append((\"att\",str(i.get_attacker().get_name()),str(i.get_attacked().get_name())))\n",
    "    elif str(i)[0:3]==\"Sup\":\n",
    "        all_relation_new.append((\"sup\",str(i.get_supporter().get_name()),str(i.get_supported().get_name())))\n",
    "all_relation_new"
   ]
  },
  {
   "cell_type": "code",
   "execution_count": 12,
   "metadata": {},
   "outputs": [],
   "source": [
    "# set topic argument\n",
    "topic_a = \"c0\"\n",
    "topic_arg = model.BAG.arguments[topic_a]"
   ]
  },
  {
   "cell_type": "code",
   "execution_count": 13,
   "metadata": {},
   "outputs": [
    {
     "name": "stdout",
     "output_type": "stream",
     "text": [
      "('s0', 0.5, 0.6983866081211344)\n",
      "('s1', 0.5, 0.6984075601349732)\n",
      "('s2', 0.5, 0.6983598317669508)\n",
      "('s3', 0.5, 0.6983598317669508)\n",
      "('s4', 0.5, 0.6983866081211344)\n",
      "('s5', 0.5, 0.6983561366841534)\n",
      "('s6', 0.5, 0.6983598317669508)\n",
      "('s7', 0.5, 0.6983561366841534)\n",
      "('s8', 0.5, 0.6983561366841534)\n",
      "('s9', 0.5, 0.500000816300687)\n",
      "('c0', 0.0, 0.8135102277027011)\n",
      "('c1', 0.0, 7.65430959223384e-06)\n",
      "('c2', 0.0, 0.8135536589680334)\n",
      "('c3', 0.0, 6.901377616601401e-06)\n",
      "('c4', 0.0, 0.8135150192670503)\n",
      "('c5', 0.0, 6.909952043440828e-06)\n"
     ]
    }
   ],
   "source": [
    "# compute strength for all arguments\n",
    "for arg in model.BAG.arguments.values():\n",
    "    print((arg.name,arg.initial_weight,arg.strength))"
   ]
  },
  {
   "cell_type": "code",
   "execution_count": null,
   "metadata": {
    "scrolled": false,
    "pycharm": {
     "is_executing": true
    }
   },
   "outputs": [],
   "source": [
    "n = len(all_relation_new) # the number of all relations in the AF\n",
    "attribution = {} # store the attribution of all the relations\n",
    "\n",
    "for i in range(len(all_relation_new)):\n",
    "\n",
    "    # split current and the rest relation\n",
    "    cur_relation = all_relation_new[i]\n",
    "    rest_relation = all_relation_new.copy()\n",
    "    rest_relation.remove(cur_relation)\n",
    "\n",
    "    # compute combinations for the rest_relation\n",
    "    combine_rest_relation = []\n",
    "    for j in range(len(rest_relation)+1):\n",
    "        combine_rest_relation.extend(combine(rest_relation, j))\n",
    "\n",
    "    difference = []\n",
    "    coefficient = []\n",
    "\n",
    "    # remove relations in combine_rest_relation\n",
    "    for j in combine_rest_relation:\n",
    "        for k in j:\n",
    "            # remove att\n",
    "            if k[0]==\"att\":\n",
    "                temp_attacker = model.BAG.remove_attack(k[1],k[2]) # k[1] attacks k[2]\n",
    "            # remove sup\n",
    "            elif k[0]==\"sup\":\n",
    "                temp_supporter = model.BAG.remove_support(k[1],k[2]) # k[1] supports k[2]\n",
    "\n",
    "        # compute sigma(S U {i})\n",
    "        model.solve(delta=10e-2, epsilon=10e-4, verbose=True, generate_plot=False)\n",
    "        topic_arg = model.BAG.arguments[topic_a]\n",
    "        strength_before_drop_cur = topic_arg.strength\n",
    "\n",
    "        # remove cur_relation\n",
    "        if cur_relation[0]==\"att\":\n",
    "            temp_attacker = model.BAG.remove_attack(cur_relation[1],cur_relation[2])\n",
    "        elif cur_relation[0]==\"sup\":\n",
    "            temp_supporter = model.BAG.remove_support(cur_relation[1],cur_relation[2])\n",
    "\n",
    "        # compute sigma(S)\n",
    "        model.solve(delta=10e-2, epsilon=10e-4, verbose=True, generate_plot=False)\n",
    "        topic_arg = model.BAG.arguments[topic_a]\n",
    "        strength_after_drop_cur = topic_arg.strength\n",
    "\n",
    "        # compute sigma(S U {i})-sigma(S)\n",
    "        difference.append(strength_before_drop_cur-strength_after_drop_cur)\n",
    "\n",
    "        # compute the coefficient\n",
    "        S = len(j)\n",
    "        coefficient.append(math.factorial(n-1-S) * math.factorial(S) / math.factorial(n))\n",
    "\n",
    "        # recover QBAF for the next iteration\n",
    "        model = grad.semantics.QuadraticEnergyModel()\n",
    "        model.approximator = grad.algorithms.RK4(model)\n",
    "        model.BAG = grad.BAG(filename)\n",
    "        model.solve(delta=10e-2, epsilon=10e-4, verbose=True, generate_plot=False)\n",
    "\n",
    "    # compute attributions\n",
    "    attribution[cur_relation] = sum(np.multiply(coefficient, difference))"
   ]
  },
  {
   "cell_type": "code",
   "execution_count": null,
   "outputs": [],
   "source": [
    "attribution"
   ],
   "metadata": {
    "collapsed": false,
    "pycharm": {
     "name": "#%%\n",
     "is_executing": true
    }
   }
  }
 ],
 "metadata": {
  "kernelspec": {
   "display_name": "Python 3 (ipykernel)",
   "language": "python",
   "name": "python3"
  },
  "language_info": {
   "codemirror_mode": {
    "name": "ipython",
    "version": 3
   },
   "file_extension": ".py",
   "mimetype": "text/x-python",
   "name": "python",
   "nbconvert_exporter": "python",
   "pygments_lexer": "ipython3",
   "version": "3.9.7"
  },
  "vscode": {
   "interpreter": {
    "hash": "369f2c481f4da34e4445cda3fffd2e751bd1c4d706f27375911949ba6bb62e1c"
   }
  }
 },
 "nbformat": 4,
 "nbformat_minor": 2
}
