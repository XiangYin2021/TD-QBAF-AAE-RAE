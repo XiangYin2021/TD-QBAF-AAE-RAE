{
 "cells": [
  {
   "cell_type": "code",
   "execution_count": 11,
   "outputs": [],
   "source": [
    "import sys\n",
    "sys.path.append(\"../../src/\")\n",
    "import uncertainpy.gradual as grad"
   ],
   "metadata": {
    "collapsed": false
   }
  },
  {
   "cell_type": "code",
   "execution_count": 12,
   "outputs": [],
   "source": [
    "def compute_gradient(model, arg1, arg2, h):\n",
    "    original_strength = arg2.get_strength()\n",
    "    initial_weight = arg1.get_initial_weight()\n",
    "    arg1.reset_initial_weight(initial_weight+h) # change it to the counterfctual value\n",
    "    model.solve(delta=10e-2, epsilon=10e-4, verbose=False, generate_plot=False)\n",
    "    counterfactual_strength = arg2.get_strength()\n",
    "    gradient = (counterfactual_strength-original_strength)/h\n",
    "    arg1.reset_initial_weight(initial_weight) # change it back to the original value\n",
    "    model.solve(delta=10e-2, epsilon=10e-4, verbose=False, generate_plot=False)\n",
    "    return gradient"
   ],
   "metadata": {
    "collapsed": false
   }
  },
  {
   "cell_type": "code",
   "execution_count": 13,
   "outputs": [
    {
     "name": "stdout",
     "output_type": "stream",
     "text": [
      "('s0', 0.6983561366720544)\n",
      "('s1', 0.6983561366720544)\n",
      "('s2', 0.6983561366720544)\n",
      "('s3', 0.6984075829197717)\n",
      "('s4', 0.6983866309035758)\n",
      "('s5', 0.6983866309035758)\n",
      "('s6', 0.5000006666489577)\n",
      "('s7', 0.7211368661875142)\n",
      "('s8', 0.7211368661875142)\n",
      "('s9', 0.7211368661875142)\n",
      "('s10', 0.7211368661875142)\n",
      "('c0', 0.8135102276868453)\n",
      "('c1', 7.654312473156645e-06)\n",
      "('c2', 0.8135536884131115)\n",
      "('c3', 6.897036405265413e-06)\n",
      "('c4', 5.320066899352037e-06)\n",
      "('c5', 0.8922323980695945)\n"
     ]
    }
   ],
   "source": [
    "model = grad.semantics.QuadraticEnergyModel()\n",
    "model.approximator = grad.algorithms.RK4(model)\n",
    "model.BAG = grad.BAG(\"../../bags/td_qbaf.bag\")\n",
    "model.solve(delta=10e-2, epsilon=10e-4, verbose=False, generate_plot=False)\n",
    "\n",
    "for arg in model.BAG.arguments.values():\n",
    "    print((arg.name,arg.strength))"
   ],
   "metadata": {
    "collapsed": false,
    "pycharm": {
     "name": "#%%\n"
    }
   }
  },
  {
   "cell_type": "code",
   "execution_count": 14,
   "outputs": [],
   "source": [
    "# # gradient-based AAE\n",
    "#\n",
    "# # arg1 = bag.arguments[\"\"]\n",
    "# arg2 = model.BAG.arguments[\"c5\"]\n",
    "# # topic_arg = bag.arguments[\"A\"]\n",
    "# h = 0.01\n",
    "# for arg1 in model.BAG.arguments.values():\n",
    "#     gradient = compute_gradient(model, arg1, arg2, h)\n",
    "#     print(f\"gradient for argument {arg1.name} is {gradient}\")"
   ],
   "metadata": {
    "collapsed": false
   }
  },
  {
   "cell_type": "code",
   "execution_count": 15,
   "outputs": [],
   "source": [
    "# # removal-based AAE\n",
    "# topic_arg = model.BAG.arguments[\"c5\"]\n",
    "# def compute_removal(topic_arg):\n",
    "#\n",
    "#\n",
    "# strength1 = topic_arg.strength\n",
    "#\n",
    "# # remove argument\n",
    "# remove_arg = model.BAG.arguments[\"F\"]\n",
    "# model.BAG.remove_argument(remove_arg.name)\n",
    "# strength_values = grad.algorithms.computeStrengthValues(bag, agg_f, inf_f)\n",
    "# strength2 = topic_arg.strength\n",
    "# print(f\"R Contribution for argument {remove_arg.name}:{strength1-strength2}\")\n",
    "# bag = grad.BAG(\"../../bags/fake_news_neema.bag\")\n",
    "# strength_values = grad.algorithms.computeStrengthValues(bag, agg_f, inf_f)\n",
    "#\n",
    "# # print(f\"Final strength of a minus initial strength of a:{strength1 - topic_arg.get_initial_weight()}\")"
   ],
   "metadata": {
    "collapsed": false
   }
  },
  {
   "cell_type": "code",
   "execution_count": 16,
   "outputs": [],
   "source": [
    "def compute_removal(model, arg1, arg2):\n",
    "    topic_arg = model.BAG.arguments[arg2]\n",
    "    original_strength = topic_arg.strength\n",
    "    model.BAG.remove_argument(arg1.name)\n",
    "\n",
    "    model.solve(delta=10e-2, epsilon=10e-4, verbose=False, generate_plot=False)\n",
    "    new_strength = topic_arg.strength\n",
    "    removal_AAE = new_strength-original_strength\n",
    "\n",
    "\n",
    "    return removal_AAE"
   ],
   "metadata": {
    "collapsed": false,
    "pycharm": {
     "name": "#%%\n"
    }
   }
  },
  {
   "cell_type": "code",
   "execution_count": 17,
   "outputs": [
    {
     "name": "stdout",
     "output_type": "stream",
     "text": [
      "Argument(name=s0, weight=0.5, strength=0.6983561366720544)\n",
      "Argument(name=s1, weight=0.5, strength=0.6983561366720544)\n",
      "Argument(name=s2, weight=0.5, strength=0.6983561366720544)\n",
      "Argument(name=s3, weight=0.5, strength=0.6984075829197717)\n",
      "Argument(name=s4, weight=0.5, strength=0.6983866309035758)\n",
      "Argument(name=s5, weight=0.5, strength=0.6983866309035758)\n",
      "Argument(name=s6, weight=0.5, strength=0.5000006666489577)\n",
      "Argument(name=s7, weight=0.5, strength=0.7211368661875142)\n",
      "Argument(name=s8, weight=0.5, strength=0.7211368661875142)\n",
      "Argument(name=s9, weight=0.5, strength=0.7211368661875142)\n",
      "Argument(name=s10, weight=0.5, strength=0.7211368661875142)\n",
      "Argument(name=c0, weight=0.0, strength=0.8135102276868453)\n",
      "Argument(name=c1, weight=0.0, strength=7.654312473156645e-06)\n",
      "Argument(name=c2, weight=0.0, strength=0.8135536884131115)\n",
      "Argument(name=c3, weight=0.0, strength=6.897036405265413e-06)\n",
      "Argument(name=c4, weight=0.0, strength=5.320066899352037e-06)\n",
      "Argument(name=c5, weight=0.0, strength=0.8922323980695945)\n"
     ]
    }
   ],
   "source": [
    "for arg1 in model.BAG.arguments.values():\n",
    "    print(arg1)"
   ],
   "metadata": {
    "collapsed": false,
    "pycharm": {
     "name": "#%%\n"
    }
   }
  },
  {
   "cell_type": "code",
   "execution_count": 18,
   "outputs": [
    {
     "name": "stdout",
     "output_type": "stream",
     "text": [
      "Argument(name=s0, weight=0.5, strength=0.6983561366720544)\n",
      "Argument(name=s1, weight=0.5, strength=0.6983561366720544)\n",
      "Argument(name=s2, weight=0.5, strength=0.6983561366720544)\n",
      "Argument(name=s3, weight=0.5, strength=0.6984075829197717)\n",
      "Argument(name=s4, weight=0.5, strength=0.6983866309035758)\n",
      "Argument(name=s5, weight=0.5, strength=0.6983866309035758)\n",
      "Argument(name=s6, weight=0.5, strength=0.5000006666489577)\n",
      "Argument(name=s7, weight=0.5, strength=0.7211368661875142)\n",
      "Argument(name=s8, weight=0.5, strength=0.7211368661875142)\n",
      "Argument(name=s9, weight=0.5, strength=0.7211368661875142)\n",
      "Argument(name=s10, weight=0.5, strength=0.7211368661875142)\n",
      "Argument(name=c0, weight=0.0, strength=0.8135102276868453)\n",
      "Argument(name=c1, weight=0.0, strength=7.654312473156645e-06)\n",
      "Argument(name=c2, weight=0.0, strength=0.8135536884131115)\n",
      "Argument(name=c3, weight=0.0, strength=6.897036405265413e-06)\n",
      "Argument(name=c4, weight=0.0, strength=5.320066899352037e-06)\n",
      "Argument(name=c5, weight=0.0, strength=0.8922323980695945)\n"
     ]
    }
   ],
   "source": [
    "for arg1 in list(model.BAG.arguments.values()):\n",
    "    print(arg1)"
   ],
   "metadata": {
    "collapsed": false,
    "pycharm": {
     "name": "#%%\n"
    }
   }
  },
  {
   "cell_type": "code",
   "execution_count": 19,
   "outputs": [],
   "source": [
    "# # removal-based AAE\n",
    "#\n",
    "# # arg1 = bag.arguments[\"\"]\n",
    "# arg2 = model.BAG.arguments[\"c5\"]\n",
    "#\n",
    "#\n",
    "# original_strength = arg2.get_strength()\n",
    "# print(f\"original_strength: {original_strength}\")\n",
    "# for arg1 in list(model.BAG.arguments.values()):\n",
    "#\n",
    "#\n",
    "#\n",
    "#     model.BAG = grad.BAG(\"../../bags/td_qbaf.bag\")\n",
    "#\n",
    "#     model.BAG.remove_argument(arg1.name)\n",
    "#     model.solve(delta=10e-2, epsilon=10e-4, verbose=False, generate_plot=False)\n",
    "#\n",
    "#\n",
    "#\n",
    "#     new_strength = arg2.get_strength()\n",
    "#\n",
    "#     removal_AAE = new_strength-original_strength\n",
    "#     print(f\"new_strength: {new_strength}\")\n",
    "#     print(f\"original_strength: {original_strength}\")\n",
    "#     # model.BAG = grad.BAG(\"../../bags/td_qbaf.bag\")\n",
    "#     # model.solve(delta=10e-2, epsilon=10e-4, verbose=False, generate_plot=False)\n",
    "#\n",
    "#\n",
    "#\n",
    "#\n",
    "#     print(f\"removal_AAE for argument {arg1.name} is {removal_AAE}\")"
   ],
   "metadata": {
    "collapsed": false
   }
  },
  {
   "cell_type": "code",
   "execution_count": 20,
   "outputs": [
    {
     "name": "stdout",
     "output_type": "stream",
     "text": [
      "['s0', 's1', 's2', 's3', 's4', 's5', 's6', 's7', 's8', 's9', 's10', 'c0', 'c1', 'c2', 'c3', 'c4', 'c5']\n",
      "['s0', 's1', 's2', 's3', 's4', 's5', 's6', 's7', 's8', 's9', 's10', 'c0', 'c1', 'c2', 'c3', 'c4']\n"
     ]
    },
    {
     "ename": "AttributeError",
     "evalue": "'BAG' object has no attribute 'BAG'",
     "output_type": "error",
     "traceback": [
      "\u001B[1;31m---------------------------------------------------------------------------\u001B[0m",
      "\u001B[1;31mAttributeError\u001B[0m                            Traceback (most recent call last)",
      "\u001B[1;32m~\\AppData\\Local\\Temp/ipykernel_26888/3475128931.py\u001B[0m in \u001B[0;36m<module>\u001B[1;34m\u001B[0m\n\u001B[0;32m     15\u001B[0m \u001B[0mattribution\u001B[0m \u001B[1;33m=\u001B[0m \u001B[1;33m{\u001B[0m\u001B[1;33m}\u001B[0m\u001B[1;33m\u001B[0m\u001B[1;33m\u001B[0m\u001B[0m\n\u001B[0;32m     16\u001B[0m \u001B[1;32mfor\u001B[0m \u001B[0mcur_arg\u001B[0m \u001B[1;32min\u001B[0m \u001B[0mall_args_names_without_topic\u001B[0m\u001B[1;33m:\u001B[0m\u001B[1;33m\u001B[0m\u001B[1;33m\u001B[0m\u001B[0m\n\u001B[1;32m---> 17\u001B[1;33m     \u001B[0mattribution\u001B[0m\u001B[1;33m[\u001B[0m\u001B[0mcur_arg\u001B[0m\u001B[1;33m]\u001B[0m\u001B[1;33m=\u001B[0m\u001B[0mcompute_removal\u001B[0m\u001B[1;33m(\u001B[0m\u001B[0mmodel\u001B[0m\u001B[1;33m.\u001B[0m\u001B[0mBAG\u001B[0m\u001B[1;33m,\u001B[0m \u001B[0mcur_arg\u001B[0m\u001B[1;33m,\u001B[0m \u001B[0mtopic_a\u001B[0m\u001B[1;33m)\u001B[0m\u001B[1;33m\u001B[0m\u001B[1;33m\u001B[0m\u001B[0m\n\u001B[0m\u001B[0;32m     18\u001B[0m \u001B[0mprint\u001B[0m\u001B[1;33m(\u001B[0m\u001B[1;34mf\"attribution: \\n{attribution}\"\u001B[0m\u001B[1;33m)\u001B[0m\u001B[1;33m\u001B[0m\u001B[1;33m\u001B[0m\u001B[0m\n",
      "\u001B[1;32m~\\AppData\\Local\\Temp/ipykernel_26888/2424024433.py\u001B[0m in \u001B[0;36mcompute_removal\u001B[1;34m(model, arg1, arg2)\u001B[0m\n\u001B[0;32m      1\u001B[0m \u001B[1;32mdef\u001B[0m \u001B[0mcompute_removal\u001B[0m\u001B[1;33m(\u001B[0m\u001B[0mmodel\u001B[0m\u001B[1;33m,\u001B[0m \u001B[0marg1\u001B[0m\u001B[1;33m,\u001B[0m \u001B[0marg2\u001B[0m\u001B[1;33m)\u001B[0m\u001B[1;33m:\u001B[0m\u001B[1;33m\u001B[0m\u001B[1;33m\u001B[0m\u001B[0m\n\u001B[1;32m----> 2\u001B[1;33m     \u001B[0mtopic_arg\u001B[0m \u001B[1;33m=\u001B[0m \u001B[0mmodel\u001B[0m\u001B[1;33m.\u001B[0m\u001B[0mBAG\u001B[0m\u001B[1;33m.\u001B[0m\u001B[0marguments\u001B[0m\u001B[1;33m[\u001B[0m\u001B[0marg2\u001B[0m\u001B[1;33m]\u001B[0m\u001B[1;33m\u001B[0m\u001B[1;33m\u001B[0m\u001B[0m\n\u001B[0m\u001B[0;32m      3\u001B[0m     \u001B[0moriginal_strength\u001B[0m \u001B[1;33m=\u001B[0m \u001B[0mtopic_arg\u001B[0m\u001B[1;33m.\u001B[0m\u001B[0mstrength\u001B[0m\u001B[1;33m\u001B[0m\u001B[1;33m\u001B[0m\u001B[0m\n\u001B[0;32m      4\u001B[0m     \u001B[0mmodel\u001B[0m\u001B[1;33m.\u001B[0m\u001B[0mBAG\u001B[0m\u001B[1;33m.\u001B[0m\u001B[0mremove_argument\u001B[0m\u001B[1;33m(\u001B[0m\u001B[0marg1\u001B[0m\u001B[1;33m.\u001B[0m\u001B[0mname\u001B[0m\u001B[1;33m)\u001B[0m\u001B[1;33m\u001B[0m\u001B[1;33m\u001B[0m\u001B[0m\n\u001B[0;32m      5\u001B[0m \u001B[1;33m\u001B[0m\u001B[0m\n",
      "\u001B[1;31mAttributeError\u001B[0m: 'BAG' object has no attribute 'BAG'"
     ]
    }
   ],
   "source": [
    "# compute attribution for one arg\n",
    "topic_a = \"c5\"\n",
    "all_args = model.BAG.get_arguments()\n",
    "all_args_names = []\n",
    "for i in all_args:\n",
    "    all_args_names.append(i.get_name())\n",
    "print(all_args_names)\n",
    "\n",
    "\n",
    "all_args_names_without_topic = all_args_names.copy()\n",
    "all_args_names_without_topic.remove(topic_a)\n",
    "print(all_args_names_without_topic)\n",
    "\n",
    "\n",
    "attribution = {}\n",
    "for cur_arg in all_args_names_without_topic:\n",
    "    attribution[cur_arg]=compute_removal(model.BAG, cur_arg, topic_a)\n",
    "print(f\"attribution: \\n{attribution}\")"
   ],
   "metadata": {
    "collapsed": false,
    "pycharm": {
     "name": "#%%\n"
    }
   }
  }
 ],
 "metadata": {
  "kernelspec": {
   "display_name": "Python 3 (ipykernel)",
   "language": "python",
   "name": "python3"
  },
  "language_info": {
   "codemirror_mode": {
    "name": "ipython",
    "version": 3
   },
   "file_extension": ".py",
   "mimetype": "text/x-python",
   "name": "python",
   "nbconvert_exporter": "python",
   "pygments_lexer": "ipython3",
   "version": "3.9.13"
  },
  "vscode": {
   "interpreter": {
    "hash": "369f2c481f4da34e4445cda3fffd2e751bd1c4d706f27375911949ba6bb62e1c"
   }
  }
 },
 "nbformat": 4,
 "nbformat_minor": 2
}