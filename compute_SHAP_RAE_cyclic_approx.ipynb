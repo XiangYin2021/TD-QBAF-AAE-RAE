{
 "cells": [
  {
   "cell_type": "code",
   "execution_count": 1,
   "metadata": {},
   "outputs": [],
   "source": [
    "import sys\n",
    "sys.path.append(\"../../src/\")\n",
    "import uncertainpy.gradual as grad\n",
    "import random\n",
    "random.seed(0)"
   ]
  },
  {
   "cell_type": "code",
   "execution_count": 2,
   "metadata": {},
   "outputs": [],
   "source": [
    "from itertools import combinations\n",
    "\n",
    "# generate random combination with number n\n",
    "def combine(temp_list, n):\n",
    "    return list(combinations(temp_list, n))"
   ]
  },
  {
   "cell_type": "code",
   "execution_count": 3,
   "outputs": [],
   "source": [
    "# generate random sublist from current list\n",
    "def generate_new_list(original_list):\n",
    "    new_list = []\n",
    "    for element in original_list:\n",
    "        if random.choice([True, False]):\n",
    "            new_list.append(element)\n",
    "    return new_list"
   ],
   "metadata": {
    "collapsed": false
   }
  },
  {
   "cell_type": "code",
   "execution_count": 4,
   "metadata": {},
   "outputs": [
    {
     "name": "stdout",
     "output_type": "stream",
     "text": [
      "QuadraticEnergyModel, RK4\n",
      "Time: 12.199999999999973\n",
      "Argument(name=s0, weight=0.5, strength=0.664592759656642)\n",
      "Argument(name=s1, weight=0.5, strength=0.664592759656642)\n",
      "Argument(name=s2, weight=0.5, strength=0.664592759656642)\n",
      "Argument(name=s3, weight=0.5, strength=0.8135424356888933)\n",
      "Argument(name=s4, weight=0.5, strength=0.7041994642766211)\n",
      "Argument(name=s5, weight=0.5, strength=0.7041994642766211)\n",
      "Argument(name=s6, weight=0.5, strength=0.5000000446420562)\n",
      "Argument(name=s7, weight=0.5, strength=0.8254237055377077)\n",
      "Argument(name=s8, weight=0.5, strength=0.7235959804104234)\n",
      "Argument(name=s9, weight=0.5, strength=0.7235959804104234)\n",
      "Argument(name=s10, weight=0.5, strength=0.7235959804104234)\n",
      "Argument(name=c0, weight=0.0, strength=0.7000991119110755)\n",
      "Argument(name=c1, weight=0.0, strength=0.46753135307445565)\n",
      "Argument(name=c2, weight=0.0, strength=0.8313656875032375)\n",
      "Argument(name=c3, weight=0.0, strength=4.617127656482882e-07)\n",
      "Argument(name=c4, weight=0.0, strength=3.570538632983414e-07)\n",
      "Argument(name=c5, weight=0.0, strength=0.8996854332891212)\n",
      "\n"
     ]
    },
    {
     "data": {
      "text/plain": "0.0009878603392623568"
     },
     "execution_count": 4,
     "metadata": {},
     "output_type": "execute_result"
    }
   ],
   "source": [
    "# set semantics and compute strength of arguments\n",
    "\n",
    "filename = \"../../bags/td_qbaf.bag\"\n",
    "model = grad.semantics.QuadraticEnergyModel()\n",
    "model.approximator = grad.algorithms.RK4(model)\n",
    "model.BAG = grad.BAG(filename)\n",
    "model.solve(delta=10e-2, epsilon=10e-4, verbose=True, generate_plot=False)"
   ]
  },
  {
   "cell_type": "code",
   "execution_count": 5,
   "metadata": {},
   "outputs": [],
   "source": [
    "# get all the attacks and supports in QBAF\n",
    "att_relation = model.BAG.get_attacks()\n",
    "sup_relation = model.BAG.get_supports()\n",
    "all_relation = att_relation + sup_relation"
   ]
  },
  {
   "cell_type": "code",
   "execution_count": 6,
   "metadata": {},
   "outputs": [],
   "source": [
    "# rename relation concisely\n",
    "all_relation_new = []\n",
    "for i in all_relation:\n",
    "    if str(i)[0:3]==\"Att\":\n",
    "        all_relation_new.append((\"att\",str(i.get_attacker().get_name()),str(i.get_attacked().get_name())))\n",
    "    elif str(i)[0:3]==\"Sup\":\n",
    "        all_relation_new.append((\"sup\",str(i.get_supporter().get_name()),str(i.get_supported().get_name())))"
   ]
  },
  {
   "cell_type": "code",
   "execution_count": 7,
   "metadata": {},
   "outputs": [],
   "source": [
    "topic_a = \"c5\"\n",
    "topic_arg = model.BAG.arguments[topic_a]"
   ]
  },
  {
   "cell_type": "code",
   "execution_count": 8,
   "metadata": {},
   "outputs": [
    {
     "name": "stdout",
     "output_type": "stream",
     "text": [
      "('s0', 0.5, 0.664592759656642)\n",
      "('s1', 0.5, 0.664592759656642)\n",
      "('s2', 0.5, 0.664592759656642)\n",
      "('s3', 0.5, 0.8135424356888933)\n",
      "('s4', 0.5, 0.7041994642766211)\n",
      "('s5', 0.5, 0.7041994642766211)\n",
      "('s6', 0.5, 0.5000000446420562)\n",
      "('s7', 0.5, 0.8254237055377077)\n",
      "('s8', 0.5, 0.7235959804104234)\n",
      "('s9', 0.5, 0.7235959804104234)\n",
      "('s10', 0.5, 0.7235959804104234)\n",
      "('c0', 0.0, 0.7000991119110755)\n",
      "('c1', 0.0, 0.46753135307445565)\n",
      "('c2', 0.0, 0.8313656875032375)\n",
      "('c3', 0.0, 4.617127656482882e-07)\n",
      "('c4', 0.0, 3.570538632983414e-07)\n",
      "('c5', 0.0, 0.8996854332891212)\n"
     ]
    }
   ],
   "source": [
    "# compute strength for all arguments\n",
    "for arg in model.BAG.arguments.values():\n",
    "    print((arg.name,arg.initial_weight,arg.strength))"
   ]
  },
  {
   "cell_type": "code",
   "execution_count": 9,
   "metadata": {
    "scrolled": false
   },
   "outputs": [
    {
     "name": "stdout",
     "output_type": "stream",
     "text": [
      "edge i:0\n",
      "edge i:1\n",
      "edge i:2\n",
      "edge i:3\n",
      "edge i:4\n",
      "edge i:5\n",
      "edge i:6\n",
      "edge i:7\n",
      "edge i:8\n",
      "edge i:9\n",
      "edge i:10\n",
      "edge i:11\n",
      "edge i:12\n",
      "edge i:13\n",
      "edge i:14\n",
      "edge i:15\n",
      "edge i:16\n",
      "edge i:17\n",
      "edge i:18\n",
      "edge i:19\n",
      "edge i:20\n",
      "edge i:21\n",
      "edge i:22\n",
      "edge i:23\n",
      "edge i:24\n",
      "edge i:25\n",
      "edge i:26\n",
      "edge i:27\n",
      "edge i:28\n",
      "edge i:29\n",
      "edge i:30\n",
      "edge i:31\n",
      "edge i:32\n",
      "edge i:33\n"
     ]
    }
   ],
   "source": [
    "# approximate attributions\n",
    "n = len(all_relation_new) # the number of all relations in the AF\n",
    "attribution = {} # store the attribution of all the relations\n",
    "sample_count_N = 1000 # iterate 1000 times\n",
    "\n",
    "for i in range(len(all_relation_new)):\n",
    "    print(f\"edge i:{i}\")\n",
    "\n",
    "    # split current and the other relation\n",
    "    cur_relation = all_relation_new[i]\n",
    "    rest_relation = all_relation_new.copy()\n",
    "    rest_relation.remove(cur_relation)\n",
    "\n",
    "    difference = []\n",
    "    coefficient = []\n",
    "\n",
    "    sample_count = sample_count_N\n",
    "\n",
    "    for index in range(1, sample_count+1): # iterations\n",
    "        new_list = generate_new_list(rest_relation) # choose random elements in rest_relation\n",
    "        if new_list == []:\n",
    "            new_tuple = ()\n",
    "        else:\n",
    "            new_tuple = tuple(new_list)\n",
    "        j = new_tuple\n",
    "        for k in j:\n",
    "            # remove att\n",
    "            if k[0] == \"att\":\n",
    "                temp_attacker = model.BAG.remove_attack(k[1],k[2]) # k[1] attacks k[2]\n",
    "            # remove sup\n",
    "            elif k[0] == \"sup\":\n",
    "                temp_supporter = model.BAG.remove_support(k[1],k[2]) # k[1] supports k[2]\n",
    "\n",
    "\n",
    "\n",
    "        # compute sigma(S U {i})\n",
    "        model.solve(delta=10e-2, epsilon=10e-4, verbose=False, generate_plot=False)\n",
    "        topic_arg = model.BAG.arguments[topic_a]\n",
    "        strength_before_drop_cur = topic_arg.strength\n",
    "\n",
    "        # remove cur_relation\n",
    "        if cur_relation[0]==\"att\":\n",
    "            temp_attacker = model.BAG.remove_attack(cur_relation[1],cur_relation[2])\n",
    "        elif cur_relation[0]==\"sup\":\n",
    "            temp_supporter = model.BAG.remove_support(cur_relation[1],cur_relation[2])\n",
    "\n",
    "        # compute sigma(S)\n",
    "        model.solve(delta=10e-2, epsilon=10e-4, verbose=False, generate_plot=False)\n",
    "        topic_arg = model.BAG.arguments[topic_a]\n",
    "        strength_after_drop_cur = topic_arg.strength\n",
    "\n",
    "        # compute sigma(S U {i})-sigma(S)\n",
    "        difference.append(strength_before_drop_cur-strength_after_drop_cur)\n",
    "\n",
    "        # recover BAG for the next iteration\n",
    "        model = grad.semantics.QuadraticEnergyModel()\n",
    "        model.approximator = grad.algorithms.RK4(model)\n",
    "        model.BAG = grad.BAG(filename)\n",
    "        model.solve(delta=10e-2, epsilon=10e-4, verbose=False, generate_plot=False)\n",
    "\n",
    "    # compute the attribution\n",
    "    attribution[cur_relation] = sum(difference) / sample_count_N"
   ]
  },
  {
   "cell_type": "code",
   "execution_count": 10,
   "outputs": [
    {
     "data": {
      "text/plain": "{('att', 'c0', 'c1'): -0.0016597054288270765,\n ('att', 'c1', 'c0'): 0.000834336560601931,\n ('att', 'c2', 'c3'): 0.0009286709137880932,\n ('att', 'c3', 'c2'): 0.00016453425954027012,\n ('att', 'c4', 'c5'): -0.02838372220303165,\n ('att', 'c5', 'c4'): 0.015153831234528093,\n ('sup', 's0', 'c0'): -1.7152399525694786e-05,\n ('sup', 'c0', 's0'): 0.0005582498096317925,\n ('sup', 's1', 'c0'): -3.675301631135433e-05,\n ('sup', 'c0', 's1'): 0.0005586867094440162,\n ('sup', 's2', 'c0'): 0.00014488437417198923,\n ('sup', 'c0', 's2'): 0.0005868267695382578,\n ('sup', 's3', 'c1'): 0.0064605936258123504,\n ('sup', 'c1', 's3'): 0.0008818149059085103,\n ('sup', 's7', 'c1'): 0.005974418657512054,\n ('sup', 'c1', 's7'): 0.009541656868788814,\n ('sup', 's3', 'c2'): 0.0012824255533291642,\n ('sup', 'c2', 's3'): 0.0011409803695223682,\n ('sup', 's4', 'c2'): 0.0012060742803774675,\n ('sup', 'c2', 's4'): 0.0006318694819917303,\n ('sup', 's5', 'c2'): 0.0010834220655097282,\n ('sup', 'c2', 's5'): 0.0006701022598286938,\n ('sup', 's6', 'c3'): -0.0002764906428009455,\n ('sup', 'c3', 's6'): -0.000465297841143975,\n ('sup', 's6', 'c4'): -0.029099302843066027,\n ('sup', 'c4', 's6'): -0.001147532747366544,\n ('sup', 's7', 'c5'): 0.2555134207717881,\n ('sup', 'c5', 's7'): 0.024524066446311485,\n ('sup', 's8', 'c5'): 0.24592782461009116,\n ('sup', 'c5', 's8'): 0.020059231280535477,\n ('sup', 's9', 'c5'): 0.2389307719963958,\n ('sup', 'c5', 's9'): 0.022019374544974237,\n ('sup', 's10', 'c5'): 0.24776196081420618,\n ('sup', 'c5', 's10'): 0.020724750796987573}"
     },
     "execution_count": 10,
     "metadata": {},
     "output_type": "execute_result"
    }
   ],
   "source": [
    "attribution"
   ],
   "metadata": {
    "collapsed": false
   }
  },
  {
   "cell_type": "markdown",
   "source": [],
   "metadata": {
    "collapsed": false
   }
  }
 ],
 "metadata": {
  "kernelspec": {
   "display_name": "Python 3 (ipykernel)",
   "language": "python",
   "name": "python3"
  },
  "language_info": {
   "codemirror_mode": {
    "name": "ipython",
    "version": 3
   },
   "file_extension": ".py",
   "mimetype": "text/x-python",
   "name": "python",
   "nbconvert_exporter": "python",
   "pygments_lexer": "ipython3",
   "version": "3.9.7"
  },
  "vscode": {
   "interpreter": {
    "hash": "369f2c481f4da34e4445cda3fffd2e751bd1c4d706f27375911949ba6bb62e1c"
   }
  }
 },
 "nbformat": 4,
 "nbformat_minor": 2
}