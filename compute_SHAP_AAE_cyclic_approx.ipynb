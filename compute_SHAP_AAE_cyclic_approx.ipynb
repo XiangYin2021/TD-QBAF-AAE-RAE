{
 "cells": [
  {
   "cell_type": "code",
   "execution_count": 48,
   "metadata": {},
   "outputs": [],
   "source": [
    "import sys\n",
    "sys.path.append(\"../../src/\")\n",
    "import numpy as np\n",
    "import math\n",
    "import uncertainpy.gradual as grad\n",
    "import random\n",
    "random.seed(0)"
   ]
  },
  {
   "cell_type": "code",
   "execution_count": 49,
   "outputs": [],
   "source": [
    "# generate random sublist from current list\n",
    "def generate_new_list(original_list):\n",
    "    new_list = []\n",
    "    for element in original_list:\n",
    "        if random.choice([True, False]):\n",
    "            new_list.append(element)\n",
    "    return new_list"
   ],
   "metadata": {
    "collapsed": false,
    "pycharm": {
     "name": "#%%\n"
    }
   }
  },
  {
   "cell_type": "code",
   "execution_count": 50,
   "outputs": [],
   "source": [
    "# return cur_arg's SHAP AAE\n",
    "def compute_SHAP(bag, topic_a, cur_arg):\n",
    "    model.BAG = grad.BAG(\"../../bags/td_qbaf.bag\")\n",
    "    model.solve(delta=10e-2, epsilon=10e-4, verbose=True, generate_plot=False)\n",
    "\n",
    "    arg_name_all = []\n",
    "\n",
    "    topic_arg = model.BAG.arguments[topic_a]\n",
    "    for arg in model.BAG.arguments.values():\n",
    "        arg_name_all.append(arg.name)\n",
    "        # print((arg.name,arg.strength))\n",
    "    arg_name_no_topic_arg = arg_name_all.copy()\n",
    "    arg_name_no_topic_arg.remove(topic_a)\n",
    "\n",
    "    print(arg_name_all)\n",
    "    print(arg_name_no_topic_arg)\n",
    "\n",
    "    # remove current argument\n",
    "    arg_name_no_topic_no_cur = arg_name_no_topic_arg.copy()\n",
    "    print(cur_arg)\n",
    "\n",
    "    arg_name_no_topic_no_cur.remove(cur_arg)\n",
    "    print(arg_name_no_topic_no_cur)\n",
    "    print(\"----------------------------\")\n",
    "\n",
    "\n",
    "    # record initial base scores\n",
    "    arg_initial_weight = []\n",
    "    for arg in model.BAG.arguments.values():\n",
    "        arg_initial_weight.append((arg.name,arg.initial_weight))\n",
    "\n",
    "\n",
    "    # print all the initial base scores\n",
    "    print(\"All the base score and strength in QBAF:\")\n",
    "    for arg in model.BAG.arguments.values():\n",
    "        print((arg.name,arg.initial_weight,arg.strength))\n",
    "\n",
    "\n",
    "    sample_count = 1000 # iterate 1000 times\n",
    "    difference = []\n",
    "    for i in range(sample_count):\n",
    "\n",
    "        new_list = generate_new_list(arg_name_no_topic_no_cur) # choose random elements in arg_name_no_topic_arg\n",
    "        print(f\"new_list:{new_list}\")\n",
    "\n",
    "        if new_list == []:\n",
    "            new_tuple = ()\n",
    "        else:\n",
    "            new_tuple = tuple(new_list)\n",
    "        j = new_tuple\n",
    "\n",
    "        # remove arg(j) from the current combination i\n",
    "        for k in j: # first remove the argument from the combination\n",
    "            model.BAG.remove_argument(k)\n",
    "\n",
    "        model.solve(delta=10e-2, epsilon=10e-4, verbose=True, generate_plot=False)\n",
    "\n",
    "        # compute sigma(S U {i})\n",
    "        print(\"Initial and final strength (1st):\")\n",
    "        for arg in model.BAG.arguments.values():\n",
    "            print((arg.name,arg.initial_weight,arg.strength))\n",
    "        topic_arg = model.BAG.arguments[topic_a]\n",
    "        strength_before_drop_cur = topic_arg.strength\n",
    "        print(f\"strength_before_drop_cur:{strength_before_drop_cur}\")\n",
    "\n",
    "        # remove cur arg\n",
    "        model.BAG.remove_argument(cur_arg)\n",
    "\n",
    "        model.solve(delta=10e-2, epsilon=10e-4, verbose=True, generate_plot=False)\n",
    "\n",
    "        # compute sigma(S)\n",
    "        print(\"Initial and final strength (2nd):\")\n",
    "        for arg in model.BAG.arguments.values():\n",
    "            print((arg.name,arg.initial_weight,arg.strength))\n",
    "        topic_arg = model.BAG.arguments[topic_a]\n",
    "        strength_after_drop_cur = topic_arg.strength\n",
    "        print(f\"strength_after_drop_cur:{strength_after_drop_cur}\")\n",
    "\n",
    "        # compute sigma(S U {i})-sigma(S)\n",
    "        difference.append(strength_before_drop_cur-strength_after_drop_cur)\n",
    "        print(f\"diff={strength_before_drop_cur-strength_after_drop_cur}\")\n",
    "\n",
    "\n",
    "        # recover BAG for the next iteration\n",
    "        model.BAG = grad.BAG(\"../../bags/td_qbaf.bag\")\n",
    "        model.solve(delta=10e-2, epsilon=10e-4, verbose=True, generate_plot=False)\n",
    "\n",
    "\n",
    "    print(\"----------------------------\")\n",
    "\n",
    "    print(f\"difference:{difference}\")\n",
    "    attribution = sum(difference)/sample_count\n",
    "    print(attribution)\n",
    "\n",
    "    # reset to original initial weight\n",
    "    model.BAG = grad.BAG(\"../../bags/td_qbaf.bag\")\n",
    "    model.solve(delta=10e-2, epsilon=10e-4, verbose=True, generate_plot=False)\n",
    "\n",
    "    return attribution"
   ],
   "metadata": {
    "collapsed": false
   }
  },
  {
   "cell_type": "code",
   "execution_count": 51,
   "outputs": [
    {
     "name": "stdout",
     "output_type": "stream",
     "text": [
      "QuadraticEnergyModel, RK4\n",
      "Time: 9.499999999999982\n",
      "Argument(name=s0, weight=0.5, strength=0.6983561366720544)\n",
      "Argument(name=s1, weight=0.5, strength=0.6983561366720544)\n",
      "Argument(name=s2, weight=0.5, strength=0.6983561366720544)\n",
      "Argument(name=s3, weight=0.5, strength=0.6984075829197717)\n",
      "Argument(name=s4, weight=0.5, strength=0.6983866309035758)\n",
      "Argument(name=s5, weight=0.5, strength=0.6983866309035758)\n",
      "Argument(name=s6, weight=0.5, strength=0.5000006666489577)\n",
      "Argument(name=s7, weight=0.5, strength=0.7211368661875142)\n",
      "Argument(name=s8, weight=0.5, strength=0.7211368661875142)\n",
      "Argument(name=s9, weight=0.5, strength=0.7211368661875142)\n",
      "Argument(name=s10, weight=0.5, strength=0.7211368661875142)\n",
      "Argument(name=c0, weight=0.0, strength=0.8135102276868453)\n",
      "Argument(name=c1, weight=0.0, strength=7.654312473156645e-06)\n",
      "Argument(name=c2, weight=0.0, strength=0.8135536884131115)\n",
      "Argument(name=c3, weight=0.0, strength=6.897036405265413e-06)\n",
      "Argument(name=c4, weight=0.0, strength=5.320066899352037e-06)\n",
      "Argument(name=c5, weight=0.0, strength=0.8922323980695945)\n",
      "\n"
     ]
    },
    {
     "data": {
      "text/plain": "0.0009670739847200497"
     },
     "execution_count": 51,
     "metadata": {},
     "output_type": "execute_result"
    }
   ],
   "source": [
    "model = grad.semantics.QuadraticEnergyModel()\n",
    "model.approximator = grad.algorithms.RK4(model)\n",
    "model.BAG = grad.BAG(\"../../bags/td_qbaf.bag\")\n",
    "model.solve(delta=10e-2, epsilon=10e-4, verbose=True, generate_plot=False)"
   ],
   "metadata": {
    "collapsed": false
   }
  },
  {
   "cell_type": "code",
   "execution_count": null,
   "outputs": [],
   "source": [
    "# compute attribution for one arg\n",
    "topic_a = \"c5\"\n",
    "all_args = model.BAG.get_arguments()\n",
    "all_args_names = []\n",
    "for i in all_args:\n",
    "    all_args_names.append(i.get_name())\n",
    "print(all_args_names)\n",
    "\n",
    "all_args_names_without_topic = all_args_names.copy()\n",
    "all_args_names_without_topic.remove(topic_a)\n",
    "print(all_args_names_without_topic)\n",
    "\n",
    "attribution = {}\n",
    "for cur_arg in all_args_names_without_topic:\n",
    "    attribution[cur_arg] = compute_SHAP(model.BAG, topic_a, cur_arg)\n",
    "print(f\"attribution: \\n{attribution}\")"
   ],
   "metadata": {
    "collapsed": false,
    "pycharm": {
     "is_executing": true
    }
   }
  },
  {
   "cell_type": "code",
   "execution_count": 53,
   "outputs": [
    {
     "name": "stdout",
     "output_type": "stream",
     "text": [
      "base score of the topic_arg: 0.0\n",
      "sum of all attributions: 1.0500316718397253\n",
      "--------------------------------------------\n",
      "sum of all attributions + BS: 1.0500316718397253\n",
      "strength of the topic_arg: 0.8922323980695945\n"
     ]
    }
   ],
   "source": [
    "print(f\"base score of the topic_arg: {model.BAG.arguments[topic_a].initial_weight}\")\n",
    "# sum of all attributions\n",
    "total_sum = sum(attribution.values())\n",
    "print(f\"sum of all attributions: {total_sum}\")\n",
    "print(\"--------------------------------------------\")\n",
    "print(f\"sum of all attributions + BS: {total_sum+model.BAG.arguments[topic_a].initial_weight}\")\n",
    "print(f\"strength of the topic_arg: {model.BAG.arguments[topic_a].strength}\")"
   ],
   "metadata": {
    "collapsed": false,
    "pycharm": {
     "name": "#%%\n"
    }
   }
  }
 ],
 "metadata": {
  "kernelspec": {
   "display_name": "Python 3 (ipykernel)",
   "language": "python",
   "name": "python3"
  },
  "language_info": {
   "codemirror_mode": {
    "name": "ipython",
    "version": 3
   },
   "file_extension": ".py",
   "mimetype": "text/x-python",
   "name": "python",
   "nbconvert_exporter": "python",
   "pygments_lexer": "ipython3",
   "version": "3.9.13"
  },
  "vscode": {
   "interpreter": {
    "hash": "369f2c481f4da34e4445cda3fffd2e751bd1c4d706f27375911949ba6bb62e1c"
   }
  }
 },
 "nbformat": 4,
 "nbformat_minor": 2
}